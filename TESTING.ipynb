{
 "cells": [
  {
   "cell_type": "code",
   "execution_count": 2,
   "metadata": {},
   "outputs": [],
   "source": [
    "from getpass import getpass\n",
    "from base64 import encode\n",
    "from email import message\n",
    "import secrets\n",
    "from Crypto.Random import get_random_bytes\n",
    "from Crypto.Protocol.KDF import PBKDF2\n",
    "from Crypto.Cipher import AES\n",
    "from Crypto.Util.Padding import pad, unpad"
   ]
  },
  {
   "cell_type": "code",
   "execution_count": 31,
   "metadata": {},
   "outputs": [],
   "source": [
    "def gen_key(path='key.bin',type_passwd=True, import_secret='magic'):\n",
    "    simple_key = get_random_bytes(32)\n",
    "    salt = simple_key\n",
    "    if type_passwd == True:\n",
    "        password = getpass()\n",
    "    if type_passwd == False:\n",
    "        password = import_secret\n",
    "    key = PBKDF2(password, salt, dkLen=32)\n",
    "    with open(path,'wb') as f:\n",
    "        f.write(salt)\n",
    "    print(\"YOUR KEY WAS CREATED BY MAGIC!\")"
   ]
  },
  {
   "cell_type": "code",
   "execution_count": 33,
   "metadata": {},
   "outputs": [],
   "source": [
    "def get_key(key_file='key.bin', type_password=True, import_secret='magic'):\n",
    "    with open(key_file,'rb') as f:\n",
    "        salt = f.read()\n",
    "    if type_password == True:\n",
    "        password = getpass()\n",
    "    if type_password == False:\n",
    "        password = import_secret\n",
    "    key = PBKDF2(password, salt, dkLen=32)\n",
    "    print(\"THE KEY IS IN YOUR HANDS!\")\n",
    "    return key"
   ]
  },
  {
   "cell_type": "code",
   "execution_count": 18,
   "metadata": {},
   "outputs": [],
   "source": [
    "def encrypt_file(secret_file='input', key_file='key.bin',import_secret='magic', output_file='encrypted.bin'):\n",
    "    with open(secret_file,'rb') as f:\n",
    "        dark_secret =  f.read()\n",
    "    \n",
    "    key = get_key(key_file='key.bin', type_password=True, import_secret='magic')\n",
    "    cipher = AES.new(key, AES.MODE_CBC)\n",
    "    ciphered_data = cipher.encrypt(pad(dark_secret, AES.block_size))\n",
    "   \n",
    "    with open(output_file, 'wb') as f:\n",
    "        f.write(cipher.iv)\n",
    "        f.write(ciphered_data)\n",
    "\n",
    "    print(\"YOUR SECRET IS SAFE IN THE SHADOWS!\")"
   ]
  },
  {
   "cell_type": "code",
   "execution_count": 19,
   "metadata": {},
   "outputs": [],
   "source": [
    "def decrypt_file(secret_file='encrypted.bin', key_file='key.bin',old_secret='magic'):\n",
    "    print(\"THE BLACK BOX IS OPENED!\\n\")\n",
    "    key = get_key(key_file='key.bin', type_secret=True, old_secret='magic')\n",
    "    \n",
    "    with open(secret_file, 'rb') as f:\n",
    "        iv = f.read(16)\n",
    "        decrypt_data = f.read()\n",
    "\n",
    "    cipher = AES.new(key, AES.MODE_CBC, iv=iv)\n",
    "    original = unpad(cipher.decrypt(decrypt_data), AES.block_size)\n",
    "    return original.decode('utf-8')"
   ]
  },
  {
   "cell_type": "code",
   "execution_count": null,
   "metadata": {},
   "outputs": [],
   "source": []
  }
 ],
 "metadata": {
  "kernelspec": {
   "display_name": "Python 3.10.7 64-bit",
   "language": "python",
   "name": "python3"
  },
  "language_info": {
   "codemirror_mode": {
    "name": "ipython",
    "version": 3
   },
   "file_extension": ".py",
   "mimetype": "text/x-python",
   "name": "python",
   "nbconvert_exporter": "python",
   "pygments_lexer": "ipython3",
   "version": "3.10.7"
  },
  "orig_nbformat": 4,
  "vscode": {
   "interpreter": {
    "hash": "e7370f93d1d0cde622a1f8e1c04877d8463912d04d973331ad4851f04de6915a"
   }
  }
 },
 "nbformat": 4,
 "nbformat_minor": 2
}
