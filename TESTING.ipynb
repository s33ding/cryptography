{
 "cells": [
  {
   "cell_type": "code",
   "execution_count": 1,
   "metadata": {},
   "outputs": [],
   "source": [
    "from getpass import getpass\n",
    "from Crypto.Random import get_random_bytes\n",
    "from Crypto.Cipher import AES\n",
    "from Crypto.Util.Padding import pad, unpad\n",
    "from Crypto.Protocol.KDF import PBKDF2\n",
    "from Crypto.Hash import SHA256\n",
    "from cryptography.fernet import Fernet\n",
    "from cryptography.hazmat.primitives import hashes\n",
    "from cryptography.hazmat.primitives.kdf.pbkdf2 import PBKDF2HMAC\n",
    "\n",
    "import pandas as pd\n",
    "import numpy as np\n",
    "import json\n",
    "import os\n",
    "import base64\n",
    "\n"
   ]
  },
  {
   "cell_type": "code",
   "execution_count": 3,
   "metadata": {},
   "outputs": [
    {
     "name": "stdout",
     "output_type": "stream",
     "text": [
      "YOUR KEY WAS CREATED BY MAGIC!\n"
     ]
    }
   ],
   "source": [
    "def gen_key(key_file='key.bin',type_password=False, import_secret='magic'):\n",
    "    simple_key = get_random_bytes(32)\n",
    "    salt = simple_key\n",
    "    default_password = 'magic' \n",
    "    if import_secret!=default_password:\n",
    "        type_password=False\n",
    "    if type_password == True:\n",
    "        password = getpass()\n",
    "    if type_password == False:\n",
    "        password = import_secret\n",
    "    key = PBKDF2(password, salt, dkLen=32)\n",
    "    with open(key_file,'wb') as f:\n",
    "        f.write(key)\n",
    "    print(\"YOUR KEY WAS CREATED BY MAGIC!\")\n",
    "\n",
    "\n",
    "# gen_key(key_file='key.bin',type_password=True, import_secret='magic')\n",
    "# gen_key()"
   ]
  },
  {
   "cell_type": "code",
   "execution_count": 5,
   "metadata": {},
   "outputs": [],
   "source": [
    "def get_key(key_file='key.bin', type_password=True, import_secret='magic'):\n",
    "    with open(key_file,'rb') as f:\n",
    "        salt = f.read()\n",
    "    \n",
    "    default_password = 'magic' \n",
    "    if import_secret!=default_password:\n",
    "        type_password=False\n",
    "    if type_password == True:\n",
    "        password = getpass()\n",
    "    if type_password == False:\n",
    "        password = import_secret\n",
    "    key = PBKDF2(password, salt, dkLen=32)\n",
    "    # print(\"THE KEY IS IN YOUR HANDS!\")\n",
    "    return key"
   ]
  },
  {
   "cell_type": "code",
   "execution_count": 143,
   "metadata": {},
   "outputs": [],
   "source": [
    "def encrypt_file(secret_file='input_file', key_file='key.bin',output_file='encrypted.bin', import_secret='magic', type_password=False):\n",
    "    with open(secret_file,'rb') as f:\n",
    "        dark_secret =  f.read()\n",
    "    \n",
    "    key = get_key(key_file=key_file, type_password=type_password, import_secret=import_secret)\n",
    "    cipher = AES.new(key, AES.MODE_CBC)\n",
    "    ciphered_data = cipher.encrypt(pad(dark_secret, AES.block_size))\n",
    "    with open(output_file, 'wb') as f:\n",
    "        f.write(cipher.iv)\n",
    "        f.write(ciphered_data)\n",
    "    print(\"YOUR SECRET IS PROTECTED WITH ENCRYPTION!\")"
   ]
  },
  {
   "cell_type": "code",
   "execution_count": 7,
   "metadata": {},
   "outputs": [
    {
     "name": "stdout",
     "output_type": "stream",
     "text": [
      "THE BLACK BOX IS OPENED!\n",
      "\n"
     ]
    },
    {
     "data": {
      "text/plain": [
       "'\\n“To see a World in a Grain of Sand\\nAnd a Heaven in a Wild Flower,\\nHold Infinity in the palm of your hand\\nAnd Eternity in an hour.”\\n― William Blake, Auguries of Innocence '"
      ]
     },
     "execution_count": 7,
     "metadata": {},
     "output_type": "execute_result"
    }
   ],
   "source": [
    "def decrypt_file(secret_file='encrypted.bin', key_file='key.bin',import_secret='magic',type_password=False):\n",
    "    print(\"THE BLACK BOX IS OPENED!\\n\")\n",
    "    key = get_key(key_file=key_file, type_password=type_password, import_secret=import_secret)\n",
    "    \n",
    "    with open(secret_file, 'rb') as f:\n",
    "        iv = f.read(16)\n",
    "        decrypt_data = f.read()\n",
    "\n",
    "    cipher = AES.new(key, AES.MODE_CBC, iv=iv)\n",
    "    original = unpad(cipher.decrypt(decrypt_data), AES.block_size)\n",
    "    return original.decode('utf-8')\n",
    "\n",
    "# decrypt_file(secret_file='encrypted.bin', key_file='key.bin',import_secret='magic',type_password=False)"
   ]
  },
  {
   "cell_type": "code",
   "execution_count": 12,
   "metadata": {},
   "outputs": [],
   "source": [
    "def gen_fernet_key_pass(key_file='fernet.bin',type_password=False, import_secret='magic'):\n",
    "    default_password = 'magic' \n",
    "    if import_secret!=default_password:\n",
    "        type_password=False\n",
    "    if type_password == True:\n",
    "        password = getpass('passwd: ').encode()\n",
    "    if type_password == False:\n",
    "        password = import_secret\n",
    "    salt = os.urandom(16)\n",
    "    kdf = PBKDF2HMAC(algorithm=hashes.SHA256(), length=32, salt=salt, iterations=390000)\n",
    "    key = base64.urlsafe_b64encode(kdf.derive(password))\n",
    "    with open(key_file,'wb') as f:\n",
    "        f.write(key) "
   ]
  },
  {
   "cell_type": "code",
   "execution_count": 4,
   "metadata": {},
   "outputs": [],
   "source": [
    "def gen_fernet_key(key_file='fernet.bin'):\n",
    "    key = Fernet.generate_key()\n",
    "    with open(key_file,'wb') as f:\n",
    "        f.write(key) \n",
    "\n",
    "def get_fernet_key(key_file='fernet.bin'):\n",
    "    with open(key_file,'rb') as f:\n",
    "        key = f.read()\n",
    "    return key\n",
    "\n",
    "def encrypt_str(text = '', key_file='fernet.bin'):\n",
    "    if text==None:\n",
    "        return None\n",
    "    text = str(text)\n",
    "    key = get_fernet_key(key_file=key_file)\n",
    "    fernet = Fernet(key)\n",
    "    encMessage = fernet.encrypt(text.encode())\n",
    "    return encMessage.decode()\n",
    "\n",
    "def decrypt_str( text, key_file='fernet.bin'):\n",
    "    key = get_fernet_key(key_file=key_file)\n",
    "    fernet = Fernet(key)\n",
    "    encMessage = text.encode()\n",
    "    decMessage = fernet.decrypt(encMessage).decode()\n",
    "    # if decMessage.isnumeric() == True:\n",
    "    #     return int(decMessage)\n",
    "    return decMessage\n",
    "\n",
    "# gen_fernet_key()\n"
   ]
  },
  {
   "cell_type": "code",
   "execution_count": 134,
   "metadata": {},
   "outputs": [
    {
     "name": "stdout",
     "output_type": "stream",
     "text": [
      "{'passwd': 'gAAAAABjNm5adklJWTKqVlmw0mEjHWPpoeZDfXDYZFjZV16L85Gf0tVghENbskxIsHNR4QoUnub4B1Xjy2iZa5zt9pJklI2Kow==', 'user': 'gAAAAABjNm5aDt5QMHDTQv2KPqH79Ioa3SHiFGfzvPdSM5f0vAzzm7WHi3ARCmdpkxUzEZpFHpY5z7TeOROrK5sUA29OuAxYOA==', 'host': 'gAAAAABjNm5acW87FH2A4Z_ilNi5q5gAMlXCQMbWbyd2D4K0-ldTshbmF-tFyJRNo_uZiFFIcKZHHZ8YIHDbSmJruZ0jc0z2tw==', 'port': 'gAAAAABjNm5ak7Ru6_NOKU1spWBfkCvqXC-G3sLNVPzlHg4rpvsCxSQ9nklcw5eXecBYh3wYRj_3p_otDsgRf85le_5H2Mpq3w=='}\n"
     ]
    }
   ],
   "source": [
    "def encrypt_json_fernet(json_file='teste.json',key_file='fernet.bin'):\n",
    "    with open(json_file,'r') as f:\n",
    "        dct = json.load(f)\n",
    "    \n",
    "    for key,value in dct.items():\n",
    "        dct[key] = encrypt_str(text = value, key_file=key_file)\n",
    "\n",
    "    print(dct)\n",
    "    with open('teste_output.json','w') as f:\n",
    "        json.dump(dct,f,indent=4)\n",
    "    \n",
    "\n",
    "# encrypt_json_fernet()"
   ]
  },
  {
   "cell_type": "code",
   "execution_count": 135,
   "metadata": {},
   "outputs": [
    {
     "name": "stdout",
     "output_type": "stream",
     "text": [
      "{'passwd': '123', 'user': 'dnz', 'host': '10.334.344', 'port': '3306'}\n"
     ]
    }
   ],
   "source": [
    "def decrypt_json_fernet(json_file='teste.json',key_file='fernet.bin'):\n",
    "    with open(json_file,'r') as f:\n",
    "        dct = json.load(f)\n",
    "    for key,value in dct.items():\n",
    "        dct[key] = decrypt_str(text = value, key_file=key_file)\n",
    "    print(dct)\n",
    "\n",
    "# decrypt_json_fernet(json_file='teste_output.json')"
   ]
  },
  {
   "cell_type": "code",
   "execution_count": 142,
   "metadata": {},
   "outputs": [
    {
     "data": {
      "text/html": [
       "<div>\n",
       "<style scoped>\n",
       "    .dataframe tbody tr th:only-of-type {\n",
       "        vertical-align: middle;\n",
       "    }\n",
       "\n",
       "    .dataframe tbody tr th {\n",
       "        vertical-align: top;\n",
       "    }\n",
       "\n",
       "    .dataframe thead th {\n",
       "        text-align: right;\n",
       "    }\n",
       "</style>\n",
       "<table border=\"1\" class=\"dataframe\">\n",
       "  <thead>\n",
       "    <tr style=\"text-align: right;\">\n",
       "      <th></th>\n",
       "      <th>cpf</th>\n",
       "      <th>name</th>\n",
       "      <th>cpf_enc</th>\n",
       "      <th>cpf_dec</th>\n",
       "    </tr>\n",
       "  </thead>\n",
       "  <tbody>\n",
       "    <tr>\n",
       "      <th>0</th>\n",
       "      <td>1</td>\n",
       "      <td>Augustina Lande</td>\n",
       "      <td>gAAAAABjNm98AdnS52i38UHsreTkGxdLam3vNYI0YkRMz8...</td>\n",
       "      <td>1</td>\n",
       "    </tr>\n",
       "    <tr>\n",
       "      <th>1</th>\n",
       "      <td>2</td>\n",
       "      <td>Christoforo Woolforde</td>\n",
       "      <td>gAAAAABjNm98wtdvBCWibkjYjD9Fcpfhplwr5LA28ScLr3...</td>\n",
       "      <td>2</td>\n",
       "    </tr>\n",
       "    <tr>\n",
       "      <th>2</th>\n",
       "      <td>3</td>\n",
       "      <td>Kayne McGenis</td>\n",
       "      <td>gAAAAABjNm98hETItughd0kWGv97QgYc7JcMskQJ3xBnlJ...</td>\n",
       "      <td>3</td>\n",
       "    </tr>\n",
       "    <tr>\n",
       "      <th>3</th>\n",
       "      <td>4</td>\n",
       "      <td>Billie Chander</td>\n",
       "      <td>gAAAAABjNm98saGWF7gFU9i92qYa-jXAroeKD6FlsBN1iN...</td>\n",
       "      <td>4</td>\n",
       "    </tr>\n",
       "    <tr>\n",
       "      <th>4</th>\n",
       "      <td>5</td>\n",
       "      <td>Oliy MacTrustrie</td>\n",
       "      <td>gAAAAABjNm9827pD3AaB9lqFOzh7VFlxuoUDWvwOwZQGjP...</td>\n",
       "      <td>5</td>\n",
       "    </tr>\n",
       "  </tbody>\n",
       "</table>\n",
       "</div>"
      ],
      "text/plain": [
       "   cpf                   name  \\\n",
       "0    1        Augustina Lande   \n",
       "1    2  Christoforo Woolforde   \n",
       "2    3          Kayne McGenis   \n",
       "3    4         Billie Chander   \n",
       "4    5       Oliy MacTrustrie   \n",
       "\n",
       "                                             cpf_enc cpf_dec  \n",
       "0  gAAAAABjNm98AdnS52i38UHsreTkGxdLam3vNYI0YkRMz8...       1  \n",
       "1  gAAAAABjNm98wtdvBCWibkjYjD9Fcpfhplwr5LA28ScLr3...       2  \n",
       "2  gAAAAABjNm98hETItughd0kWGv97QgYc7JcMskQJ3xBnlJ...       3  \n",
       "3  gAAAAABjNm98saGWF7gFU9i92qYa-jXAroeKD6FlsBN1iN...       4  \n",
       "4  gAAAAABjNm9827pD3AaB9lqFOzh7VFlxuoUDWvwOwZQGjP...       5  "
      ]
     },
     "execution_count": 142,
     "metadata": {},
     "output_type": "execute_result"
    }
   ],
   "source": [
    "df = pd.read_csv('MOCK_DATA.csv')\n",
    "df['cpf_enc'] = df.cpf.apply(lambda x: encrypt_str(x))\n",
    "df['cpf_dec'] = df.cpf_enc.apply(lambda x: decrypt_str(x))\n",
    "\n",
    "# df.head()"
   ]
  }
 ],
 "metadata": {
  "kernelspec": {
   "display_name": "Python 3.10.7 64-bit",
   "language": "python",
   "name": "python3"
  },
  "language_info": {
   "codemirror_mode": {
    "name": "ipython",
    "version": 3
   },
   "file_extension": ".py",
   "mimetype": "text/x-python",
   "name": "python",
   "nbconvert_exporter": "python",
   "pygments_lexer": "ipython3",
   "version": "3.10.7"
  },
  "orig_nbformat": 4,
  "vscode": {
   "interpreter": {
    "hash": "e7370f93d1d0cde622a1f8e1c04877d8463912d04d973331ad4851f04de6915a"
   }
  }
 },
 "nbformat": 4,
 "nbformat_minor": 2
}
