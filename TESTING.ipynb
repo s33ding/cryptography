{
 "cells": [
  {
   "cell_type": "code",
   "execution_count": 103,
   "metadata": {},
   "outputs": [],
   "source": [
    "from getpass import getpass\n",
    "from email import message\n",
    "from Crypto.Random import get_random_bytes\n",
    "from Crypto.Cipher import AES\n",
    "from Crypto.Util.Padding import pad, unpad\n",
    "import json\n",
    "import numpy as np\n",
    "from Crypto.Protocol.KDF import PBKDF2\n",
    "from Crypto.Hash import SHA256\n",
    "from cryptography.fernet import Fernet"
   ]
  },
  {
   "cell_type": "code",
   "execution_count": 4,
   "metadata": {},
   "outputs": [
    {
     "name": "stdout",
     "output_type": "stream",
     "text": [
      "YOUR KEY WAS CREATED BY MAGIC!\n"
     ]
    }
   ],
   "source": [
    "def gen_key(key_file='key.bin',type_password=False, import_secret='magic'):\n",
    "    simple_key = get_random_bytes(32)\n",
    "    salt = simple_key\n",
    "    default_password = 'magic' \n",
    "    if import_secret!=default_password:\n",
    "        type_password=False\n",
    "    if type_password == True:\n",
    "        password = getpass()\n",
    "    if type_password == False:\n",
    "        password = import_secret\n",
    "    key = PBKDF2(password, salt, dkLen=32)\n",
    "    with open(key_file,'wb') as f:\n",
    "        f.write(key)\n",
    "    print(\"YOUR KEY WAS CREATED BY MAGIC!\")\n",
    "\n",
    "\n",
    "# gen_key(key_file='key.bin',type_passwd=True, import_secret='magic')\n",
    "gen_key()"
   ]
  },
  {
   "cell_type": "code",
   "execution_count": 5,
   "metadata": {},
   "outputs": [],
   "source": [
    "def get_key(key_file='key.bin', type_password=True, import_secret='magic'):\n",
    "    with open(key_file,'rb') as f:\n",
    "        salt = f.read()\n",
    "    \n",
    "    default_password = 'magic' \n",
    "    if import_secret!=default_password:\n",
    "        type_password=False\n",
    "    if type_password == True:\n",
    "        password = getpass()\n",
    "    if type_password == False:\n",
    "        password = import_secret\n",
    "    key = PBKDF2(password, salt, dkLen=32)\n",
    "    # print(\"THE KEY IS IN YOUR HANDS!\")\n",
    "    return key"
   ]
  },
  {
   "cell_type": "code",
   "execution_count": 9,
   "metadata": {},
   "outputs": [
    {
     "name": "stdout",
     "output_type": "stream",
     "text": [
      "YOUR SECRET IS SAFE IN THE SHADOWS!\n"
     ]
    }
   ],
   "source": [
    "def encrypt_file(secret_file='input_file', key_file='key.bin',output_file='encrypted.bin', import_secret='magic', type_password=False):\n",
    "    with open(secret_file,'rb') as f:\n",
    "        dark_secret =  f.read()\n",
    "    \n",
    "    key = get_key(key_file=key_file, type_password=type_password, import_secret=import_secret)\n",
    "    cipher = AES.new(key, AES.MODE_CBC)\n",
    "    ciphered_data = cipher.encrypt(pad(dark_secret, AES.block_size))\n",
    "    with open(output_file, 'wb') as f:\n",
    "        f.write(cipher.iv)\n",
    "        f.write(ciphered_data)\n",
    "    print(\"YOUR SECRET IS SAFE IN THE SHADOWS!\")"
   ]
  },
  {
   "cell_type": "code",
   "execution_count": 7,
   "metadata": {},
   "outputs": [
    {
     "name": "stdout",
     "output_type": "stream",
     "text": [
      "THE BLACK BOX IS OPENED!\n",
      "\n"
     ]
    },
    {
     "data": {
      "text/plain": [
       "'\\n“To see a World in a Grain of Sand\\nAnd a Heaven in a Wild Flower,\\nHold Infinity in the palm of your hand\\nAnd Eternity in an hour.”\\n― William Blake, Auguries of Innocence '"
      ]
     },
     "execution_count": 7,
     "metadata": {},
     "output_type": "execute_result"
    }
   ],
   "source": [
    "def decrypt_file(secret_file='encrypted.bin', key_file='key.bin',import_secret='magic',type_password=False):\n",
    "    print(\"THE BLACK BOX IS OPENED!\\n\")\n",
    "    key = get_key(key_file=key_file, type_password=type_password, import_secret=import_secret)\n",
    "    \n",
    "    with open(secret_file, 'rb') as f:\n",
    "        iv = f.read(16)\n",
    "        decrypt_data = f.read()\n",
    "\n",
    "    cipher = AES.new(key, AES.MODE_CBC, iv=iv)\n",
    "    original = unpad(cipher.decrypt(decrypt_data), AES.block_size)\n",
    "    return original.decode('utf-8')\n",
    "\n",
    "# decrypt_file(secret_file='encrypted.bin', key_file='key.bin',import_secret='magic',type_password=False)"
   ]
  },
  {
   "cell_type": "code",
   "execution_count": 102,
   "metadata": {},
   "outputs": [
    {
     "data": {
      "text/plain": [
       "'1'"
      ]
     },
     "execution_count": 102,
     "metadata": {},
     "output_type": "execute_result"
    }
   ],
   "source": [
    "def gen_fernet_key(key_file='fernet.bin'):\n",
    "    with open(key_file,'wb') as f:\n",
    "        f.write(key) \n",
    "\n",
    "def get_fernet_key(key_file='fernet.bin'):\n",
    "    with open(key_file,'rb') as f:\n",
    "        key = f.read()\n",
    "    return key\n",
    "\n",
    "def encrypt_str(text = '', key_file='fernet.bin'):\n",
    "    if text==None:\n",
    "        return None\n",
    "    text = str(text)\n",
    "    key = get_fernet_key(key_file=key_file)\n",
    "    fernet = Fernet(key)\n",
    "    encMessage = fernet.encrypt(text.encode())\n",
    "    return encMessage.decode()\n",
    "\n",
    "def decrypt_str( encMessage, key_file='fernet.bin'):\n",
    "    key = get_fernet_key(key_file='fernet.bin')\n",
    "    fernet = Fernet(key)\n",
    "    encMessage = encMessage.encode()\n",
    "    decMessage = fernet.decrypt(encMessage).decode()\n",
    "    # if decMessage.isnumeric() == True:\n",
    "    #     return int(decMessage)\n",
    "    return decMessage\n"
   ]
  }
 ],
 "metadata": {
  "kernelspec": {
   "display_name": "Python 3.10.7 64-bit",
   "language": "python",
   "name": "python3"
  },
  "language_info": {
   "codemirror_mode": {
    "name": "ipython",
    "version": 3
   },
   "file_extension": ".py",
   "mimetype": "text/x-python",
   "name": "python",
   "nbconvert_exporter": "python",
   "pygments_lexer": "ipython3",
   "version": "3.10.7"
  },
  "orig_nbformat": 4,
  "vscode": {
   "interpreter": {
    "hash": "e7370f93d1d0cde622a1f8e1c04877d8463912d04d973331ad4851f04de6915a"
   }
  }
 },
 "nbformat": 4,
 "nbformat_minor": 2
}
